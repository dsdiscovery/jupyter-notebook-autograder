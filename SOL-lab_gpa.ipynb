{
    "cells": [
        {
            "cell_type": "markdown",
            "metadata": {},
            "source": "# **Solution Version  SP23**\n# Welcome to Lab: GPA \ud83c\udf93\n\nIn this lab, you'll explore the GPA dataset again to find out more about the courses at Illinois!\n\nFun fact: the dataset you're using in this lab is the same dataset that Professor Wade uses to make the GPA visualizations! :)  Check this out here if you haven't seen it already: [https://waf.cs.illinois.edu/discovery/grade_disparity_between_sections_at_uiuc/](https://waf.cs.illinois.edu/discovery/grade_disparity_between_sections_at_uiuc/)\n\n\nA few tips to remember:\n\n- **You are not alone on your journey in learning programming!**  You have your lab Teaching Assistant, your Course Aides, your lab group, and the professors (Prof. Wade and Prof. Karle), who are all here to help you out!\n- If you find yourself stuck for more than a few minutes, ask a neighbor or course staff for help!  When you are giving help to your neighbor, explain the **idea and approach** to the problem without sharing the answer itself so they can have the same **<i>ah-hah</i>** moment!\n- We are here to help you!  Don't feel embarrassed or shy to ask us for help!\n\nLet's get started!"
        },
        {
            "cell_type": "code",
            "execution_count": null,
            "metadata": {
                "trusted": true
            },
            "outputs": [],
            "source": "# Meet your CAs and TA if you haven't already!\n# ...first name is enough, we'll know who they are! :)\nta_name = \"\"\nca1_name = \"\"\nca2_name = \"\"\n\n\n# Say hello to each other!\n# - Groups of 3 are ideal :)\n# - However, groups of 2 or 4 are fine too!\n#\n# Question of the Day (QOTD) to Ask Your Group: \"Who's your favorite music artist?\"\npartner1_name = \"\"\npartner1_netid = \"\"\npartner1_favartist = \"\"\n\npartner2_name = \"\"\npartner2_netid = \"\"\npartner2_favartist = \"\"\n\npartner3_name = \"\"\npartner3_netid = \"\"\npartner3_favartist= \"\""
        },
        {
            "cell_type": "markdown",
            "metadata": {},
            "source": "<hr style=\"color: #DD3403;\">"
        },
        {
            "cell_type": "markdown",
            "metadata": {},
            "source": "# Part 1: Exploring GPA"
        },
        {
            "cell_type": "markdown",
            "metadata": {},
            "source": "## Load the GPA Dataset\n\nBefore we begin exploring the GPA Dataset, we've got to load it in! The most recent version of the \"GPA Dataset\" (up to Spring 2022) is available here:\n```\nhttps://waf.cs.illinois.edu/discovery/gpa.csv\n```\n\nUse Python to load this dataset into a DataFrame called `df`:"
        },
        {
            "cell_type": "code",
            "execution_count": null,
            "metadata": {
                "trusted": true
            },
            "outputs": [],
            "source": "### ASSIGNMENT CODE for Puzzle 1.0 ==\nimport pandas as pd\ndf = pd.read_csv('https://waf.cs.illinois.edu/discovery/gpa.csv')\ndf"
        },
        {
            "cell_type": "markdown",
            "metadata": {},
            "source": "### \ud83d\udd2c Test Case Checkpoint \ud83d\udd2c"
        },
        {
            "cell_type": "code",
            "execution_count": null,
            "metadata": {
                "trusted": true
            },
            "outputs": [],
            "source": "### TEST CASE for Puzzle 1.0 ==\n# - This read-only cell contains test cases for your previous cell.\n# - If this cell runs without any errors, you PASSED all test cases!\n# - If this cell results in any errors, check your previous cell, make changes, and RE-RUN your code and then this cell.\nassert(len(df) == 64048 ), \"This is not the GPA dataset you're looking for\"\n\n## == SUCCESS MESSAGE ==\n# You will only see this message (with the emoji showing) if you passed all test cases:\ntada = \"\\N{PARTY POPPER}\"\nprint(f\"{tada} All tests passed! {tada}\")"
        },
        {
            "cell_type": "markdown",
            "metadata": {},
            "source": "### Puzzle 1.1: The \"Average GPA\" Column\nEach row in the GPA Dataset represents a **course** at Illinois. For our exploratory data analysis, we are going to need an additional `Average GPA` column.\n\nTo create this column, we need to compute the **weighted average GPA** for each course by taking into account the **number of students** who received each letter grade.\n\nAdd this new `Average GPA` column to our DataFrame `df` by finding the **products** of the **weight** associated with each **letter grade** by the amount of **students** in each course recieving said letter grade, **summing these products**, and then **dividing** by the **number of students** in the course.\n\nRemember:\n- The **weight** of letter grades are as follows: $[A+ = 4.0, A = 4.0, A- = 3.67, \\ldots  D- = 0.67, F = 0]$. <br> You can find a full scale at: https://registrar.illinois.edu/courses-grades/explanation-of-grades/\n- The `Students` column of our DataFrame contains the number of students in a course\n- You've done this in your PrarieLearn homework before, now you're doing it for real :)"
        },
        {
            "cell_type": "code",
            "execution_count": null,
            "metadata": {
                "trusted": true
            },
            "outputs": [],
            "source": "### ASSIGNMENT CODE for Puzzle 1.1 ==\n### SOLUTION \n\n# Option A - Manually\ndf['Average GPA'] = (df['A+'] * 4 + df['A'] * 4 + df['A-'] * 3.67 \n                    + df['B+'] * 3.33 + df['B'] * 3 + df['B-'] * 2.67 \n                    + df['C+'] * 2.33 + df['C'] * 2 + df['C-'] * 1.67 \n                    + df['D+'] * 1.33 + df['D'] * 1 + df['D-'] * 0.67 + df['F'] * 0) / df['Students']\n\n# Option B - Dot Product \n\n# When we compute dot product, ensure both these lists are of equal length\ngrades = [\"A+\", \"A\", \"A-\", \"B+\", \"B\", \"B-\", \"C+\", \"C\", \"C-\", \"D+\", \"D\", \"D-\", \"F\"]\nweights = [4, 4, 3.67, 3.33, 3, 2.67, 2.33, 2, 1.67, 1.33, 1, 0.67, 0]\ndf[\"Average GPA\"] =  df[grades].dot(weights) /df[\"Students\"]\n\ndf"
        },
        {
            "cell_type": "markdown",
            "metadata": {},
            "source": "### \ud83d\udd2c Test Case Checkpoint \ud83d\udd2c"
        },
        {
            "cell_type": "code",
            "execution_count": null,
            "metadata": {
                "trusted": true
            },
            "outputs": [],
            "source": "### TEST CASES for Puzzle 1.1 ==\n# - This read-only cell contains test cases for your previous cell.\n# - If this cell runs without any error or output, you PASSED all test cases!\n# - If this cell results in any errors, check your previous cell, make changes, and RE-RUN your code and then this cell.\nimport math\nassert( len(df) == 64048 ), \"You shouldn't be changing the length of `df` when computing Average GPA\"\nassert( \"Average GPA\" in df.columns), \"Make sure your new column is named 'Average GPA'\"\nassert( math.isclose(df['Average GPA'].mean(), 3.359779911362107)), \"Your calculation of the Average GPA is incorrect.\"\n\n## == SUCCESS MESSAGE ==\n# You'll only see this message (With the emoji showing) if you passed all test cases:\ntada = \"\\N{PARTY POPPER}\"\nprint(f\"{tada} All tests passed! {tada}\")"
        },
        {
            "cell_type": "markdown",
            "metadata": {},
            "source": "### Puzzle 1.2: The \"Hardest\" and \"Easiest\" Courses?\nOne way to judge a course's difficulty is to consider it's **Average GPA**. \n\nUsing the `Average GPA` column and the two cells below, find:\n- The **50** courses with the **lowest** `Average GPA`, storing in the DataFrame `df_hard`\n- The **50** courses with the **highest** `Average GPA`, storing the DataFrame `df_easy`"
        },
        {
            "cell_type": "code",
            "execution_count": null,
            "metadata": {
                "trusted": true
            },
            "outputs": [],
            "source": "### ASSIGNMENT CODE for Puzzle 1.2 ==\ndf_hard = df.nsmallest(50, \"Average GPA\")\ndf_hard"
        },
        {
            "cell_type": "code",
            "execution_count": null,
            "metadata": {
                "trusted": true
            },
            "outputs": [],
            "source": "### ASSIGNMENT CODE for Puzzle 1.2 ==\ndf_easy = df.nlargest(50, 'Average GPA')\ndf_easy"
        },
        {
            "cell_type": "markdown",
            "metadata": {},
            "source": "Now, using your two new DataFrames (`df_hard` and `df_easy`), find:\n- The **mean course number** of the 50 hardest courses by GPA, storing in the variable `hard_avg`\n- The **mean course number** of the 50 easiest courses by GPA, storing in the variable `easy_avg`\n\nThe **course number** of a course is stored in the **'Number'** column of our DataFrames."
        },
        {
            "cell_type": "code",
            "execution_count": null,
            "metadata": {
                "trusted": true
            },
            "outputs": [],
            "source": "### ASSIGNMENT CODE for Puzzle 1.2 ==\nhard_avg = df_hard['Number'].mean()\nhard_avg"
        },
        {
            "cell_type": "code",
            "execution_count": null,
            "metadata": {
                "trusted": true
            },
            "outputs": [],
            "source": "### ASSIGNMENT CODE for Puzzle 1.2 ==\neasy_avg = df_easy['Number'].mean()\neasy_avg"
        },
        {
            "cell_type": "markdown",
            "metadata": {},
            "source": "### \ud83d\udd2c Test Case Checkpoint \ud83d\udd2c"
        },
        {
            "cell_type": "code",
            "execution_count": null,
            "metadata": {
                "trusted": true
            },
            "outputs": [],
            "source": "### TEST CASE for Puzzle 1.2 ==\n# - This read-only cell contains test cases for your previous cell.\n# - If this cell runs without any error or output, you PASSED all test cases!\n# - If this cell results in any errors, check your previous cell(s), make changes, and RE-RUN your code and then this cell.\nimport math\nassert( len(df_hard) == len(df_easy) == 50 ), \"Your df_hard and df_easy should be picking the 50 courses with the lowest / highest average GPA respectively. Please double check that you are selecting 50 courses.\"\nassert( math.isclose(df_hard['Average GPA'].sum(), 80.30481775738464) ), \"Your df_hard is calculated incorrectly. Make sure you are finding the 50 courses with the lowest Average GPA.\"\nassert( math.isclose(df_easy['Average GPA'].sum(), 199.34775533302954) ), \"Your df_easy is calculated incorrectly. Make sure you are finding the 50 courses with the highest Average GPA.\"\nassert( math.isclose(hard_avg, 166.42) ), \"Your calculation for the average course Number of 'hard' courses is incorrect. Make sure you are finding the mean of course numbers of df_hard.\"\nassert( math.isclose(easy_avg, 372.62) ), \"Your calculation for the average course Number of 'easy' courses is incorrect. Make sure you are finding the mean of coure numbers of df_easy.\"\n\n## == SUCCESS MESSAGE ==\n# You'll only see this message (With the emoji showing) if you passed all test cases:\ntada = \"\\N{PARTY POPPER}\"\nprint(f\"{tada} All tests passed! {tada}\")"
        },
        {
            "cell_type": "markdown",
            "metadata": {},
            "source": "### Analysis: \"Hardest\" and \"Easiest\" Courses? \n\n**Q1: After solving Puzzle 1.2, your friend has the following claim:**\n\n> *\"We know that the undergraduate courses are coded from 001 to 499, where a larger number (in the hundreds place) usually implies more advanced material.  Based on our results in the previous puzzles, the data shows that the junior-level and senior-level courses are clearly not the hardest courses at UIUC.\"*\n\n**Comment on your friend's claim below. Do you think they are correct? Explain why or why not in at least three complete sentences.**"
        },
        {
            "cell_type": "markdown",
            "metadata": {},
            "source": "*(\u270f\ufe0f Edit this cell to replace this text with your answer. \u270f\ufe0f)*"
        },
        {
            "cell_type": "markdown",
            "metadata": {},
            "source": "<hr style=\"color: #DD3403;\">"
        },
        {
            "cell_type": "markdown",
            "metadata": {},
            "source": "# Part 2: GPA By Subject\nWe've explored some of the GPA Dataset as a whole, but what if we want to investigate **differences in GPA by subject**?"
        },
        {
            "cell_type": "markdown",
            "metadata": {},
            "source": "### Puzzle 2.1: Grouping by Subject\nTo look into the different Average GPAs for each Subject, we need to **group** our DataFrame. \n\nIn the following cell, create a new DataFrame, `df_subject`, which will contain this grouped GPA data. Using `df.groupby()`, **group** our original DataFrame (`df`) by `Subject` so each **letter grade column** contains the **total number of students** recieving said grade in that `Subject`. \n\nRemember: each row **before grouping** represents a **course** inside of a `Subject` with the **number of students** recieving grades for that course. This might help you decide what type of **aggregation** (`.agg()`) to use when **grouping**. And, don't forget to `.reset_index()`!"
        },
        {
            "cell_type": "code",
            "execution_count": null,
            "metadata": {
                "trusted": true
            },
            "outputs": [],
            "source": "### ASSIGNMENT CODE for Puzzle 2.1 ==\ndf_subject = df.groupby('Subject').agg('sum').reset_index() \ndf_subject"
        },
        {
            "cell_type": "markdown",
            "metadata": {},
            "source": "### \ud83d\udd2c Test Case Checkpoint \ud83d\udd2c"
        },
        {
            "cell_type": "code",
            "execution_count": null,
            "metadata": {
                "trusted": true
            },
            "outputs": [],
            "source": "### TEST CASE for Puzzle 2.1 ==\n# - This read-only cell contains test cases for your previous cell.\n# - If this cell runs without any error or output, you PASSED all test cases!\n# - If this cell results in any errors, check your previous cell(s), make changes, and RE-RUN your code and then this cell.\nimport math\nassert( 'df_subject' in vars() ), \"Make sure your DataFrame grouped by Subject is named 'df_subject'.\" \nassert( len(df_subject) == 170 ), \"Make sure you are grouping by 'Subject'. There are 170 Subjects in our original `df`, so the length of `df_subject` should be 170.\"\nassert( math.isclose(df_subject.Students.mean(), 22003.170588235294) ), \"Double-check that you are aggregating your df_subject correctly. \"\n\n## == SUCCESS MESSAGE ==\n# You'll only see this message (With the emoji showing) if you passed all test cases:\ntada = \"\\N{PARTY POPPER}\"\nprint(f\"{tada} All tests passed! {tada}\")"
        },
        {
            "cell_type": "markdown",
            "metadata": {},
            "source": "### Puzzle 2.2: Fixing our `Average GPA` Column\nYour intuition may tell you that some columns in `df_subject` look off. This is correct - given the way we've grouped the data to find **total student counts** by grade , the `Year` and `Average GPA` columns are incorrect. \n\nLet's fix this by redefining the `Average GPA` column in our `df_subject`.\n\nThe `Average GPA` column should contain the **weighted average GPA** of each `Subject` by taking into account the **number of students** who received each letter grade in said `Subject`. \n\nRemember:\n- The **weight** of letter grades are as follows: $[A+ = 4.0, A = 4.0, A- = 3.67, \\ldots  D- = 0.67, F = 0]$. <br> You can find a full scale at: https://registrar.illinois.edu/courses-grades/explanation-of-grades/\n- The `Students` column of our DataFrame contains the number of students in a `Subject`\n- This Puzzle is **strikingly similar** to **Puzzle 1.1** in this lab - just make sure you use `df_subject` this time!"
        },
        {
            "cell_type": "code",
            "execution_count": null,
            "metadata": {
                "trusted": true
            },
            "outputs": [],
            "source": "### ASSIGNMENT CODE for Puzzle 2.2 ==\n### SOLUTION \n\n# Option A - Manually\ndf_subject['Average GPA'] = (df_subject['A+'] * 4 + df_subject['A'] * 4 + df_subject['A-'] * 3.67 \n                    + df_subject['B+'] * 3.33 + df_subject['B'] * 3 + df_subject['B-'] * 2.67 \n                    + df_subject['C+'] * 2.33 + df_subject['C'] * 2 + df_subject['C-'] * 1.67 \n                    + df_subject['D+'] * 1.33 + df_subject['D'] * 1 + df_subject['D-'] * 0.67 + df_subject['F'] * 0) / df_subject['Students']\n\n# Option B - Dot Product \n# Note you don't have to necessarily redefine the `grades` and `weights` lists if student used .dot() product method for Puzzle 1.1\n\ngrades = [\"A+\", \"A\", \"A-\", \"B+\", \"B\", \"B-\", \"C+\", \"C\", \"C-\", \"D+\", \"D\", \"D-\", \"F\"]\nweights = [4, 4, 3.67, 3.33, 3, 2.67, 2.33, 2, 1.67, 1.33, 1, 0.67, 0]\ndf_subject['Average GPA'] =  df_subject[grades].dot(weights) /df_subject['Students']\n\ndf_subject"
        },
        {
            "cell_type": "markdown",
            "metadata": {},
            "source": "### \ud83d\udd2c Test Case Checkpoint \ud83d\udd2c"
        },
        {
            "cell_type": "code",
            "execution_count": null,
            "metadata": {
                "trusted": true
            },
            "outputs": [],
            "source": "### TEST CASES for Puzzle 2.2 ==\n# - This read-only cell contains test cases for your previous cell.\n# - If this cell runs without any error or output, you PASSED all test cases!\n# - If this cell results in any errors, check your previous cell, make changes, and RE-RUN your code and then this cell.\nimport math\nassert( len(df_subject) == 170 ), \"You shouldn't be changing the length of `df_subject` when recomputing Average GPA\"\nassert( \"Average GPA\" in df_subject.columns), \"Make sure your column is still named 'Average GPA'.\"\nassert( len(df_subject.columns) == 19), \"Don't add any new columns to df_subject when recalculating the 'Average GPA' column.\"\nassert( math.isclose(df_subject['Average GPA'].mean(), 3.4581205344558357) ), \"Your calculation of the Average GPA by Subject is incorrect.\"\n\n## == SUCCESS MESSAGE ==\n# You'll only see this message (With the emoji showing) if you passed all test cases:\ntada = \"\\N{PARTY POPPER}\"\nprint(f\"{tada} All tests passed! {tada}\")"
        },
        {
            "cell_type": "markdown",
            "metadata": {},
            "source": "### Puzzle 2.3: The \"Hardest\" and \"Easiest\" Subjects?\nOne way we can judge a Subject's difficulty is to consider it's **Average GPA**. \n\nUsing your `df_subject`'s  `Average GPA` column and the two cells below, find:\n- The **10** Subjects with the **lowest** `Average GPA`, storing in the DataFrame `hard_subjects`\n- The **10** Subjects with the **highest** `Average GPA`, storing the DataFrame `easy_subjects`"
        },
        {
            "cell_type": "code",
            "execution_count": null,
            "metadata": {
                "trusted": true
            },
            "outputs": [],
            "source": "### ASSIGNMENT CODE for Puzzle 2.3 ==\nhard_subjects = df_subject.nsmallest(10, 'Average GPA')\nhard_subjects"
        },
        {
            "cell_type": "code",
            "execution_count": null,
            "metadata": {
                "trusted": true
            },
            "outputs": [],
            "source": "### ASSIGNMENT CODE for Puzzle 2.3 ==\neasy_subjects = df_subject.nlargest(10, 'Average GPA')\neasy_subjects"
        },
        {
            "cell_type": "markdown",
            "metadata": {},
            "source": "### \ud83d\udd2c Test Case Checkpoint \ud83d\udd2c"
        },
        {
            "cell_type": "code",
            "execution_count": null,
            "metadata": {
                "trusted": true
            },
            "outputs": [],
            "source": "### TEST CASES for Puzzle 2.3 ==\n# - This read-only cell contains test cases for your previous cell.\n# - If this cell runs without any error or output, you PASSED all test cases!\n# - If this cell results in any errors, check your previous cell, make changes, and RE-RUN your code and then this cell.\nimport math\nassert( len(hard_subjects) == len(easy_subjects) == 10 ), \"Make sure you are selecting the ten hardest or easiest subjects by GPA. This means your hard_subjects and easy_subjects DataFrames should both have exactly ten rows.\"\nassert( math.isclose(hard_subjects['Average GPA'].sum(), 29.63348355865901) ), \"Your calculation for the hardest subjects by GPA is incorrect. Remember, here harder = lower Average GPA.\"\nassert( math.isclose(easy_subjects['Average GPA'].sum(), 38.536009114732316) ), \"Your calculation for the easiest subjects by GPA is incorrect. Remember, here easier = higher Average GPA.\"\n\n## == SUCCESS MESSAGE ==\n# You'll only see this message (With the emoji showing) if you passed all test cases:\ntada = \"\\N{PARTY POPPER}\"\nprint(f\"{tada} All tests passed! {tada}\")"
        },
        {
            "cell_type": "markdown",
            "metadata": {},
            "source": "### Analysis: \"Hardest\" and \"Easiest\" Subjects? \n\n**Q2: Observe the `Subject` column of the `hard_subjects` and `easy_subjects` you've found in Puzzle 2.3 above. Do you think these are truly the \"Hardest\" and \"Easiest\" subjects at Illinois? Explain why or why not.** \n\n\n*Note: You can use http://catalog.illinois.edu/courses-of-instruction/ to find what the different `Subject` codes mean.*"
        },
        {
            "cell_type": "markdown",
            "metadata": {},
            "source": "*(\u270f\ufe0f Edit this cell to replace this text with your answer. \u270f\ufe0f)*"
        },
        {
            "cell_type": "markdown",
            "metadata": {},
            "source": "### Puzzle 2.4: Visualizing GPA by Subject\nWe've got the **Average GPA** of each `Subject` at Illinois, but what if we want to look at the **bigger picture** across all Subjects? Well, Data Visualization comes to the rescue!\n\nUsing your knowledge of `.hist()`, generate a **histogram** of the **Average GPA** in your `df_subject`:"
        },
        {
            "cell_type": "code",
            "execution_count": null,
            "metadata": {
                "trusted": true
            },
            "outputs": [],
            "source": "### ASSIGNMENT CODE for Puzzle 2.4 ==\ndf_subject['Average GPA'].hist()"
        },
        {
            "cell_type": "markdown",
            "metadata": {},
            "source": "### Analysis: Histogram Interpretations\n\n**Q3: Based on the histogram you generated above, what do you think the Average GPA across all courses in a typical Subject at Illinois is? No need for an exact answer, just estimate.**"
        },
        {
            "cell_type": "markdown",
            "metadata": {},
            "source": "*(\u270f\ufe0f Edit this cell to replace this text with your answer. \u270f\ufe0f)*"
        },
        {
            "cell_type": "markdown",
            "metadata": {},
            "source": "### Puzzle 2.5: Your Major! \nWe've done a lot of analysis on every course and every subject, but Data Science should also be personal to you!\n\nUsing your `df_subject`, isolate the row containing the `Subject` of **your Major**, storing in the variable `my_subject`:\n\n(If you're undecided, you can pick any `Subject`!)"
        },
        {
            "cell_type": "code",
            "execution_count": null,
            "metadata": {
                "trusted": true
            },
            "outputs": [],
            "source": "### ASSIGNMENT CODE for Puzzle 2.5 ==\nmy_subject = df_subject[df_subject['Subject'] == 'IS']\nmy_subject"
        },
        {
            "cell_type": "markdown",
            "metadata": {},
            "source": "### Analysis: Your Major's Average GPA\n\n**Q4: Observe the `Average GPA` column of your subject from Puzzle 2.5 above. Is it higher or lower than you expected?**"
        },
        {
            "cell_type": "markdown",
            "metadata": {},
            "source": "*(\u270f\ufe0f Edit this cell to replace this text with your answer. \u270f\ufe0f)*"
        },
        {
            "cell_type": "markdown",
            "metadata": {},
            "source": "<hr style=\"color: #DD3403;\">"
        },
        {
            "cell_type": "markdown",
            "metadata": {},
            "source": "# Part 3: GPA By Year\nAt this point, we've investigated the GPA Dataset as a whole and grouped by `Subject`. While our GPA Dataset contains **a lot** of course data, some of the listed courses are quite old: **dating back to 2010**! To put that into perspective, a senior in college now would be no more than **10 years old** in 2010. \n\nOne can question the changes to GPA **over time**. Some questions may include:\n- Has GPA gone down, because classes became \"easier\"? \n- Has the GPA risen because of stricter grading policies? \n- How was GPA impacted in 2019-2020 at the brunt of COVID? \n\nYou will gain some insight into the answers to questions in this section of the lab."
        },
        {
            "cell_type": "markdown",
            "metadata": {},
            "source": "### Puzzle 3.1: Grouping by Year\nTo look into how the GPA changes by `Year`, we need to again **group** our DataFrame. \n\nIn the following cell, create a new DataFrame, `df_year`, which will contain this grouped GPA data. Using `df.groupby()`, **group** our original DataFrame (`df`) by `Year` so each **letter grade column** contains the **total number of students** recieving said grade in that `Year`. \n\nRemember: You did something quite similar in Puzzle 2.1 to create `df_subject`. This might help you decide what type of **aggregation** (`.agg()`) to use when **grouping**. And, don't forget to `.reset_index()`!"
        },
        {
            "cell_type": "code",
            "execution_count": null,
            "metadata": {
                "trusted": true
            },
            "outputs": [],
            "source": "### ASSIGNMENT CODE for Puzzle 3.1 ==\ndf_year = df.groupby('Year').agg('sum').reset_index()\ndf_year"
        },
        {
            "cell_type": "markdown",
            "metadata": {},
            "source": "### \ud83d\udd2c Test Case Checkpoint \ud83d\udd2c"
        },
        {
            "cell_type": "code",
            "execution_count": null,
            "metadata": {
                "trusted": true
            },
            "outputs": [],
            "source": "### TEST CASE for Puzzle 3.1 ==\n# - This read-only cell contains test cases for your previous cell.\n# - If this cell runs without any errors, you PASSED all test cases!\n# - If this cell results in any errors, check your previous cell, make changes, and RE-RUN your code and then this cell.\nimport math\nassert( 'df_year' in vars() ), \"Make sure your DataFrame grouped by Year is named 'df_year'.\" \nassert( len(df_year) == 13 ), \"Make sure you are grouping by 'Year'. There are 13 years in our original `df`, so the length of `df_years` should be 13.\"\nassert( math.isclose(df_year.Students.mean(), 287733.76923076925) ), \"Double-check that you are aggregating your df_year correctly. \"\n\n## == SUCCESS MESSAGE ==\n# You will only see this message (with the emoji showing) if you passed all test cases:\ntada = \"\\N{PARTY POPPER}\"\nprint(f\"{tada} All tests passed! {tada}\")"
        },
        {
            "cell_type": "markdown",
            "metadata": {},
            "source": "### Puzzle 3.2: Fixing our `Average GPA` Column Again\nSome columns in `df_year` are incorrectly calculated given the way we've grouped the data.\n\nLet's fix this by redefining the `Average GPA` column in our `df_year`.\n\nThe `Average GPA` column should contain the **weighted average GPA** of each `Year` by taking into account the **number of students** who received each letter grade in said `Year`. \n\nRemember: You've done this twice before in **Puzzle 1.1** and **Puzzle 2.1** - just make sure you use `df_year` this time!"
        },
        {
            "cell_type": "code",
            "execution_count": null,
            "metadata": {
                "trusted": true
            },
            "outputs": [],
            "source": "### ASSIGNMENT CODE for Puzzle 3.2 ==\n### SOLUTION\n\n## Option A - Manually\ndf_year['Average GPA'] = (df_year['A+'] * 4 + df_year['A'] * 4 + df_year['A-'] * 3.67 \n                    + df_year['B+'] * 3.33 + df_year['B'] * 3 + df_year['B-'] * 2.67 \n                    + df_year['C+'] * 2.33 + df_year['C'] * 2 + df_year['C-'] * 1.67 \n                    + df_year['D+'] * 1.33 + df_year['D'] * 1 + df_year['D-'] * 0.67 + df_year['F'] * 0) / df_year['Students']\n\n## Option B - Dot Product \n# Note you don't have to necessarily redefine the `grades` and `weights` lists if student used .dot() product method for Puzzles 1.1 or 2.1\n\ngrades = [\"A+\", \"A\", \"A-\", \"B+\", \"B\", \"B-\", \"C+\", \"C\", \"C-\", \"D+\", \"D\", \"D-\", \"F\"]\nweights = [4, 4, 3.67, 3.33, 3, 2.67, 2.33, 2, 1.67, 1.33, 1, 0.67, 0]\ndf_year[\"Average GPA\"] =  df_year[grades].dot(weights) /df_year[\"Students\"]\n\n\ndf_year"
        },
        {
            "cell_type": "markdown",
            "metadata": {},
            "source": "### \ud83d\udd2c Test Case Checkpoint \ud83d\udd2c"
        },
        {
            "cell_type": "code",
            "execution_count": null,
            "metadata": {
                "trusted": true
            },
            "outputs": [],
            "source": "### TEST CASE for Puzzle 3.2 ==\n# - This read-only cell contains test cases for your previous cell.\n# - If this cell runs without any errors, you PASSED all test cases!\n# - If this cell results in any errors, check your previous cell, make changes, and RE-RUN your code and then this cell.\nimport math\nassert( len(df_year) == 13 ), \"You shouldn't be changing the length of `df_year` when recomputing Average GPA\"\nassert( \"Average GPA\" in df_year.columns), \"Make sure your column is still named 'Average GPA'.\"\nassert( len(df_year.columns) == 24), \"Don't add any new columns to df_year when recalculating the 'Average GPA' column.\"\nassert( math.isclose(df_year['Average GPA'].mean(), 3.3129267514166796) ), \"Your calculation of the Average GPA by Year is incorrect.\"\n\n## == SUCCESS MESSAGE ==\n# You will only see this message (with the emoji showing) if you passed all test cases:\ntada = \"\\N{PARTY POPPER}\"\nprint(f\"{tada} All tests passed! {tada}\")"
        },
        {
            "cell_type": "markdown",
            "metadata": {},
            "source": "### Puzzle 3.3: Visualizing GPA over Time\nWe now have the data of the `Average GPA` across the University over time in years. Using this data, we can generate yet another visualization built-in to Pandas to visualize this data: a **line plot**! \n\nYou can plot a **connected line** that draws your **numeric data** from a DataFrame, `df`, using the syntax:\n\n&emsp;`df.plot.line(x='column1', y='column2')`\n\nThis line of code plots the line and specifies the **column names** to be used for the **x-values** and **y-values** of the points on your line plot.\n\n\nIn the cell below, using similar syntax, plot the **average GPA over time** using `df_year`. \n\n*Hint: the `Year` column should provide **x-values** and the `Average GPA` column should provide **y-values**.*"
        },
        {
            "cell_type": "code",
            "execution_count": null,
            "metadata": {
                "trusted": true
            },
            "outputs": [],
            "source": "### ASSIGNMENT CODE for Puzzle 3.3 ==\ndf_year.plot.line(x='Year',y='Average GPA')"
        },
        {
            "cell_type": "markdown",
            "metadata": {},
            "source": "***Side Note***: If you're using **Visual Studio Code** on **dark mode**, you may not be able to see the **axes** and **axes labels** of the graph. \n\n**Only if** this is the case, please **copy and run** the following **two lines** of code in a cell:\n\n&emsp;`from matplotlib import style` <br>\n&emsp;`style.use('dark_background')`\n\nAnd then **re-run your plotting code** above."
        },
        {
            "cell_type": "markdown",
            "metadata": {},
            "source": "### Analysis: Plotted GPA over Time\n\n**Q5: Note a few observations you have about the changes to `Average GPA` at Illinois over time. Is there an overall trend? What events could have spiked increases to the Average GPA? Respond with at least three sentences.**"
        },
        {
            "cell_type": "markdown",
            "metadata": {},
            "source": "*(\u270f\ufe0f Edit this cell to replace this text with your answer. \u270f\ufe0f)*"
        },
        {
            "cell_type": "markdown",
            "metadata": {},
            "source": "<hr style=\"color: #DD3403;\">"
        },
        {
            "cell_type": "markdown",
            "metadata": {},
            "source": "# Submission\n\nYou're almost done!  All you need to do is to commit your lab to GitHub:\n\n1.  \u26a0\ufe0f **Make certain to save your work.** \u26a0\ufe0f To do this, go to **File => Save All**\n\n2.  After you have saved, exit this notebook and follow the Canvas instructions to commit this lab to your Git repository!\n\n3. Your TA will grade your submission and provide you feedback after the lab is due. :)"
        }
    ],
    "metadata": {
        "kernelspec": {
            "display_name": "Python 3 (ipykernel)",
            "language": "python",
            "name": "python3"
        },
        "language_info": {
            "codemirror_mode": {
                "name": "ipython",
                "version": 3
            },
            "file_extension": ".py",
            "mimetype": "text/x-python",
            "name": "python",
            "nbconvert_exporter": "python",
            "pygments_lexer": "ipython3",
            "version": "3.11.3"
        }
    },
    "nbformat": 4,
    "nbformat_minor": 5
}
