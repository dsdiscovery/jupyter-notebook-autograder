{
    "cells": [
        {
            "cell_type": "markdown",
            "metadata": {},
            "source": "# **Solution Version  SP23**\n# Welcome to Lab: Experimental Design \ud83d\udc68\u200d\ud83d\udd2c\u2697\ufe0f\ud83e\uddea\n\nBefore this lab section, you completed the \"Hello Survey\" based on the questions you generated with your groups.  This week, you will do an analysis of the results and explore techniques to do great experimental design in Python!\n\nA few tips to remember:\n\n- **You are not alone on your journey in learning programming!**  You have your lab Teaching Assistant, your Course Aides, your lab group, and the professors (Prof. Wade and Prof. Karle), who are all here to help you out!\n- If you find yourself stuck for more than a few minutes, ask a neighbor or course staff for help!  When you are giving help to your neighbor, explain the **idea and approach** to the problem without sharing the answer itself so they can have the same **<i>ah-hah</i>** moment!\n- We are here to help you!  Don't feel embarrassed or shy to ask us for help!\n\nLet's get started!"
        },
        {
            "cell_type": "markdown",
            "metadata": {},
            "source": "<hr style=\"color: #DD3403;\">"
        },
        {
            "cell_type": "code",
            "execution_count": null,
            "metadata": {
                "trusted": true
            },
            "outputs": [],
            "source": "# Meet your CAs and TA if you haven't already!\n# ...first name is enough, we'll know who they are! :)\nta_name = \"\"\nca1_name = \"\"\nca2_name = \"\"\n\n\n# Say hello to each other!\n# - Groups of 3 are ideal :)\n# - However groups of 2 or 4 are fine too!\npartner1_name = \"\"\npartner1_netid = \"\"\npartner1_inYourGroupLastWeek = \"yes\"\n\npartner2_name = \"\"\npartner2_netid = \"\"\npartner1_inYourGroupLastWeek = \"yes\"\n\npartner3_name = \"\"\npartner3_netid = \"\"\npartner1_inYourGroupLastWeek = \"yes\""
        },
        {
            "cell_type": "markdown",
            "metadata": {},
            "source": "<hr style=\"color: #DD3403;\">"
        },
        {
            "cell_type": "markdown",
            "metadata": {},
            "source": "# Part 1: Hello Dataset Analysis\n\nIn lab last week, you created a series of questions that made up the **\"Hello Dataset\"**.  Before lab, you completed this survey along with the entire course.  Today, you're going to do analysis on this dataset! :)"
        },
        {
            "cell_type": "markdown",
            "metadata": {},
            "source": "## Your Binary Question Analysis\n\nYou will be analyzing the **binary question** your group asked the class from `lab_pandas` -- record it below.  If multiple people from your group had different binary questions, decide which one to use and record that question below."
        },
        {
            "cell_type": "markdown",
            "metadata": {},
            "source": "**'Are you a morning person?'**"
        },
        {
            "cell_type": "markdown",
            "metadata": {},
            "source": "## Load the Hello Dataset\n\nThe \"Hello Dataset\" is available here:\n```\nhttps://waf.cs.illinois.edu/discovery/hello-sp23.csv\n```\n\nUse Python to load this dataset into a DataFrame called `df`:"
        },
        {
            "cell_type": "code",
            "execution_count": null,
            "metadata": {
                "trusted": true
            },
            "outputs": [],
            "source": "### ASSIGNMENT CODE for Puzzle 1.0 ==\nimport pandas as pd \ndf = pd.read_csv(\"https://waf.cs.illinois.edu/discovery/hello-sp23.csv\")"
        },
        {
            "cell_type": "markdown",
            "metadata": {},
            "source": "## Find The Variable for Your Question\n\nThe command `df.columns.tolist()` will **list all of the columns (variables)** in a DataFrame.  Use `df.columns.tolist()` and read the output until you find the column name for your binary question.\n\n- You may see the message: `Output exceeds the __size limit__. Open the full output data __in a text editor__`\n- If you do, click the **in a text editor** link to open the whole list in a new tab. :)"
        },
        {
            "cell_type": "code",
            "execution_count": null,
            "metadata": {
                "trusted": true
            },
            "outputs": [],
            "source": "### ASSIGNMENT CODE for Puzzle 1.0 ==\ndf.columns.tolist()"
        },
        {
            "cell_type": "markdown",
            "metadata": {},
            "source": "## Record the Variable for Your Question\n\nIn the cell below, record your question's column name as a **string** variable named `analysis_column`.  You'll need that exact column name to reference data from that cell."
        },
        {
            "cell_type": "code",
            "execution_count": null,
            "metadata": {
                "trusted": true
            },
            "outputs": [],
            "source": "### ASSIGNMENT CODE for Puzzle 1.0 ==\n# Student answers will depend on their group's binary question. \n# If they did not have a group, they can pick any binary question. \n\nanalysis_column =  'Are you a morning person?'\nanalysis_column"
        },
        {
            "cell_type": "markdown",
            "metadata": {},
            "source": "### \ud83d\udd2c Test Case Checkpoint \ud83d\udd2c"
        },
        {
            "cell_type": "code",
            "execution_count": null,
            "metadata": {
                "trusted": true
            },
            "outputs": [],
            "source": "### TEST CASE for Puzzle 1.0 ==\n## == CHECKPOINT TEST CASE ==\n# - This read-only cell contains test cases for your previous cell.\n# - If this cell runs without any error our output, you PASSED all test cases!\n# - If this cell results in any errors, check you previous cell, make changes, and RE-RUN your code and then this cell.\nassert( 'df' in vars() ), \"You do not have a DataFrame called `df`.\"\nassert( len(df) <= 385 and len(df) >= 365), \"You have not loaded the correct Hello dataset\"\nassert( analysis_column in df ), \"Make certain your analysis_column string is EXACTLY as it appears in the Hello Dataset.\"\n\n## == SUCCESS MESSAGE ==\n# You will only see this message (with the emoji showing) if you passed all test cases:\ntada = \"\\N{PARTY POPPER}\"\nprint(f\"{tada} All tests passed! {tada}\")"
        },
        {
            "cell_type": "markdown",
            "metadata": {},
            "source": "## Column Subset: View Only Your Question's Responses\n\nTo begin your question's analysis, you may want to **focus only on your question**.  In lecture, we have primarily focused on creating subsets of rows. However, you can also create a subset of columns!\n\nTo create a DataFrame with just a single column, you can use the syntax:\n```\ndf[ [\"column name\"] ]\n```\n- Notice the **double set of square brackets**.  You need the outer set for `df`, and the inner set for the column name.\n- Because we've already loaded your question into `analysis_column`, you won't need the quotation marks this time\n- You can find this syntax under the \"Subset Variables (Columns)\" on your Pandas cheat sheet!\n\nWith the `analysis_column` variable from above, use Python to display only the column you're analyzing.  This will make it easy to see what the two options were for your question:"
        },
        {
            "cell_type": "code",
            "execution_count": null,
            "metadata": {
                "trusted": true
            },
            "outputs": [],
            "source": "df [ [analysis_column] ]"
        },
        {
            "cell_type": "markdown",
            "metadata": {},
            "source": "## DataFrame: Group One\n\nCreate a DataFrame, `df1`, that contains everyone who picked the first option of your two answers.  *(Make sure to make this a subset of the original `df`, and not just your one column.)*"
        },
        {
            "cell_type": "code",
            "execution_count": null,
            "metadata": {
                "trusted": true
            },
            "outputs": [],
            "source": "### ASSIGNMENT CODE for Puzzle 1.1 ==\ndf1 = df [ df[analysis_column] == 'Yes' ]\ndf1"
        },
        {
            "cell_type": "markdown",
            "metadata": {},
            "source": "## DataFrame: Group Two\n\nCreate a new DataFrame, `df2`, that contains everyone who picked the other answer:"
        },
        {
            "cell_type": "code",
            "execution_count": null,
            "metadata": {
                "trusted": true
            },
            "outputs": [],
            "source": "### ASSIGNMENT CODE for Puzzle 1.1 ==\ndf2 = df [ df[analysis_column] == \"No\" ] \ndf2"
        },
        {
            "cell_type": "markdown",
            "metadata": {},
            "source": "## Analysis\n\nDiscuss the following questions with your group and then write down your response!"
        },
        {
            "cell_type": "markdown",
            "metadata": {},
            "source": "**Q1: What percentage of people chose each of your two binary options?**"
        },
        {
            "cell_type": "markdown",
            "metadata": {},
            "source": "Yes: $\\frac{111}{365}$ = approx. 30% <br>\n\nNo: $\\frac{254}{365}$ = approx. 70%"
        },
        {
            "cell_type": "markdown",
            "metadata": {},
            "source": "**Q2: Did this surprise you? Why or why not? Write at least one complete sentence.**"
        },
        {
            "cell_type": "markdown",
            "metadata": {},
            "source": "Nope, most people aren't morning people."
        },
        {
            "cell_type": "markdown",
            "metadata": {},
            "source": "**Q3: Do you think your question was the closest to a perfect 50/50 split among the whole class?**"
        },
        {
            "cell_type": "markdown",
            "metadata": {},
            "source": "Certainly not."
        },
        {
            "cell_type": "markdown",
            "metadata": {},
            "source": "<hr style=\"color: #DD3403;\">"
        },
        {
            "cell_type": "markdown",
            "metadata": {},
            "source": "## Part 2: Creating Treatment and Control Groups\n\nFor the rest of this lab, we will consider the \"Hello Dataset\" to be a pre-survey of randomly selected participants for an upcoming experiment.  In lecture, you learned that a good experiment will split the participants into two groups: the \"treatment\" group and the \"control\" group.\n\nRecall that it is necessary to have both groups:\n\n- The \"control\" group is a comparison group that will receive a placebo and will act as a control to ensure that the treatment has an effect.\n- The \"treatment\" group will receive a treatment and we will look for differences between the results of this treatment group and the control group."
        },
        {
            "cell_type": "markdown",
            "metadata": {},
            "source": "## Part 2.1: Select a Treatment Group\n\nSelect half (50%) of the participants from our original `df` to be in the treatment group and place them into a DataFrame called `treatment`.\n- Remember, you can ask your CAs, TAs, or use your **pandas cheat sheet** to help you out!"
        },
        {
            "cell_type": "code",
            "execution_count": null,
            "metadata": {
                "trusted": true
            },
            "outputs": [],
            "source": "### ASSIGNMENT CODE for Puzzle 2 ==\ntreatment = df.sample(frac=0.5)\ntreatment"
        },
        {
            "cell_type": "markdown",
            "metadata": {},
            "source": "## Part 2.2: Select a Control Group\n\nUsing the **exact same technique and syntax** as you did above, also select half (50%) of the participants to be in the control group.  Place them into a DataFrame called `control`. For now, it's okay if there are people who are in both groups."
        },
        {
            "cell_type": "code",
            "execution_count": null,
            "metadata": {
                "trusted": true
            },
            "outputs": [],
            "source": "### ASSIGNMENT CODE for Puzzle 2 ==\ncontrol = df.sample(frac=0.5)\ncontrol"
        },
        {
            "cell_type": "markdown",
            "metadata": {},
            "source": "### \ud83d\udd2c Test Case Checkpoint \ud83d\udd2c"
        },
        {
            "cell_type": "code",
            "execution_count": null,
            "metadata": {
                "trusted": true
            },
            "outputs": [],
            "source": "### TEST CASE for Puzzle 2 ==\n## == CHECKPOINT TEST CASE ==\n# - This read-only cell contains test cases for your previous cell.\n# - If this cell runs without any error our output, you PASSED all test cases!\n# - If this cell results in any errors, check you previous cell, make changes, and RE-RUN your code and then this cell.\nassert( 'df' in vars() ), \"You do not have a DataFrame called `df`.\"\nassert( 'treatment' in vars() ), \"You do not have a DataFrame called `treatment`.\"\nassert( 'control' in vars() ), \"You do not have a DataFrame called `control`.\"\nassert( len(treatment) == len(control) ), \"The `treatment` and `control` groups must be the same size.\"\nassert( abs((len(df) / 2) - len(treatment)) <= 1 ), \"The `treatment` group size must be 50% of the `df`\"\nassert( abs((len(df) / 2) - len(control)) <= 1 ), \"The `control` group size must be 50% of the `df`\"\n\n\n## == SUCCESS MESSAGE ==\n# You will only see this message (with the emoji showing) if you passed all test cases:\ntada = \"\\N{PARTY POPPER}\"\nprint(f\"{tada} All tests passed! {tada}\")"
        },
        {
            "cell_type": "markdown",
            "metadata": {},
            "source": "## Analysis: Overlapping Selection?\n\nThe following code will detect rows that are **both in your treatment and control** groups.\n\nRun the following cell to see everyone who is in both groups:"
        },
        {
            "cell_type": "code",
            "execution_count": null,
            "metadata": {
                "trusted": true
            },
            "outputs": [],
            "source": "df[ df.index.isin(treatment.index) & df.index.isin(control.index) ]"
        },
        {
            "cell_type": "markdown",
            "metadata": {},
            "source": "**Q: Why would your code result in some people being included in both groups? Write at least one complete sentence explaining why you think this might occur.**"
        },
        {
            "cell_type": "markdown",
            "metadata": {},
            "source": "Because I used `df.sample(frac=0.5)`, the code cells above take random samples of the data. This means that some of the rows will overlap randomly."
        },
        {
            "cell_type": "markdown",
            "metadata": {},
            "source": "## Part 2.3:\n\nRead the following guide on **using `.index.isin` to select all rows from a DataFrame not in another DataFrame**: https://discovery.cs.illinois.edu/guides/DataFrame-Row-Selection/dataframe-isin-selection/\n\nFinally, create a new `control` group that contains all of the participants from `df` that are not in `treatment`:"
        },
        {
            "cell_type": "code",
            "execution_count": null,
            "metadata": {
                "trusted": true
            },
            "outputs": [],
            "source": "### ASSIGNMENT CODE for Puzzle 2.3 ==\ncontrol = df [ ~df.index.isin(treatment.index) ]\ncontrol"
        },
        {
            "cell_type": "markdown",
            "metadata": {},
            "source": "### \ud83d\udd2c Test Case Checkpoint \ud83d\udd2c"
        },
        {
            "cell_type": "code",
            "execution_count": null,
            "metadata": {
                "trusted": true
            },
            "outputs": [],
            "source": "### TEST CASE for Puzzle 2.3 ==\n## == CHECKPOINT TEST CASE ==\n# - This read-only cell contains test cases for your previous cell.\n# - If this cell runs without any error our output, you PASSED all test cases!\n# - If this cell results in any errors, check you previous cell, make changes, and RE-RUN your code and then this cell.\nassert( 'df' in vars() ), \"You do not have a DataFrame called `df`.\"\nassert( 'treatment' in vars() ), \"You do not have a DataFrame called `treatment`.\"\nassert( 'control' in vars() ), \"You do not have a DataFrame called `control`.\"\nassert( abs((len(df) / 2) - len(treatment)) <= 1 ), \"The `treatment` group size must be 50% of the `df`\"\nassert( abs((len(df) / 2) - len(control)) <= 1 ), \"The `control` group size must be 50% of the `df`\"\nassert( len(df[ df.index.isin(treatment.index) & df.index.isin(control.index) ]) == 0), \"The `treatment` and `control` groups have some overlap!  There must be no overlap.\"\n\n## == SUCCESS MESSAGE ==\n# You will only see this message (with the emoji showing) if you passed all test cases:\ntada = \"\\N{PARTY POPPER}\"\nprint(f\"{tada} All tests passed! {tada}\")"
        },
        {
            "cell_type": "markdown",
            "metadata": {},
            "source": "## Part 2.4: Finding Yourself!\n\nUse the following cells to write Python code to find yourself in either the treatment group or control group.\n- **Hint**: How do you select a subset of rows?  What conditional will identify you??\n- If you did not fill out the \"Hello Survey\" then you are not in this dataset. :(\n- If you are not in this survey, find either \"Prof. Wade\" or \"Prof. Karle\" instead.  *(Those are the names we used in the `Name` column.)*"
        },
        {
            "cell_type": "code",
            "execution_count": null,
            "metadata": {
                "trusted": true
            },
            "outputs": [],
            "source": "# Use this cell to find yourself in either `treatment` or `control` groups:\n# ...feel free to add extra \"Code\" cells here if needed.\n\n## SOLUTION Comment:\n# Students may try subsetting both the treatment and the control DataFrames with their name or some other unique identification. \n# They should only show up in one. But they should try both. (Separate cells are necessary to see the full output)"
        },
        {
            "cell_type": "code",
            "execution_count": null,
            "metadata": {
                "trusted": true
            },
            "outputs": [],
            "source": "# In this case, I was in treatment\nme = treatment[treatment.Name == 'CA Evan']\nme"
        },
        {
            "cell_type": "code",
            "execution_count": null,
            "metadata": {
                "trusted": true
            },
            "outputs": [],
            "source": "# So as a result, identical code for \"control\" produces an empty Pandas series. \nme = control[control.Name == 'CA Evan']\nme"
        },
        {
            "cell_type": "markdown",
            "metadata": {},
            "source": "## Analysis: Finding Yourself!\n\n**Q: Which group where you in -- treatment or control?**"
        },
        {
            "cell_type": "markdown",
            "metadata": {},
            "source": "Treatment."
        },
        {
            "cell_type": "markdown",
            "metadata": {},
            "source": "<hr style=\"color: #DD3403;\">"
        },
        {
            "cell_type": "markdown",
            "metadata": {},
            "source": "# Part 3: Using Blocking to Create Treatment and Control Groups that are Balanced\n\nIn your pre-experiment research, you have reason to believe that how the participants answer **your group's question** might influence the response of this experiment!  Oh no! Even though this is a large sample of participants, we want to block to be absolutely sure that the treatment and control groups are balanced with regard to your group's question!\n\nTo control for this, we will using **blocking**!  Remember from lecture that blocking has us creating subgroups for each response, selecting equal-sized treatment and control groups from each block, and then combining all the treatment groups together and all the control groups together to get the final groups. This ensures that your groups are balanced with regard to the variable you blocked on!\n\nYou have already done some of this work:\n- Earlier in this notebook, you created `df1` that includes everyone who answered your group's question one way.\n- Earlier in this notebook, you created `df2` that includes everyone who answered your group's question the other way."
        },
        {
            "cell_type": "markdown",
            "metadata": {},
            "source": "## Part 3.1:\n\nCreate a `df1_treatment` group that contains a random selection of 50% of the rows from `df1`."
        },
        {
            "cell_type": "code",
            "execution_count": null,
            "metadata": {
                "trusted": true
            },
            "outputs": [],
            "source": "### ASSIGNMENT CODE for Puzzle 3.1 ==\ndf1_treatment = df1.sample(frac=0.5)\ndf1_treatment"
        },
        {
            "cell_type": "markdown",
            "metadata": {},
            "source": "## Part 3.2:\n\nCreate a `df1_control` group that contains the other half of the rows from `df1`. *(You can refer back to Part 2 to refresh on how to do this, make sure you use `df1` and `df1_control` as your DataFrames.)*"
        },
        {
            "cell_type": "code",
            "execution_count": null,
            "metadata": {
                "trusted": true
            },
            "outputs": [],
            "source": "### ASSIGNMENT CODE for Puzzle 3.1 ==\n# This code can be tricky - double or triple check DataFrame references if students are encountering issues!\ndf1_control = df1 [ ~df1.index.isin(df1_treatment.index) ]\ndf1_control"
        },
        {
            "cell_type": "markdown",
            "metadata": {},
            "source": "### \ud83d\udd2c Test Case Checkpoint \ud83d\udd2c"
        },
        {
            "cell_type": "code",
            "execution_count": null,
            "metadata": {
                "trusted": true
            },
            "outputs": [],
            "source": "### TEST CASE for Puzzle 3.1 ==\n## == CHECKPOINT TEST CASE ==\n# - This read-only cell contains test cases for your previous cell.\n# - If this cell runs without any error our output, you PASSED all test cases!\n# - If this cell results in any errors, check you previous cell, make changes, and RE-RUN your code and then this cell.\nassert( 'df1_treatment' in vars() ), \"You do not have a DataFrame called `df1_treatment`.\"\nassert( 'df1_control' in vars() ), \"You do not have a DataFrame called `df1_control`.\"\nassert( len(df[ df.index.isin(df1_treatment.index) & df.index.isin(df1_control.index) ]) == 0), \"The `df1_treatment` and `df1_control` groups have some overlap!  There must be no overlap.\"\nassert( len(df[ df.index.isin(df1_treatment.index) & df.index.isin(df2.index) ]) == 0), \"The `df1_treatment` and `df2` groups have some overlap!  There must be no overlap.\"\nassert( len(df[ df.index.isin(df1_control.index) & df.index.isin(df2.index) ]) == 0), \"The `df1_control` and `df2` groups have some overlap!  There must be no overlap.\"\n\n## == SUCCESS MESSAGE ==\n# You will only see this message (with the emoji showing) if you passed all test cases:\ntada = \"\\N{PARTY POPPER}\"\nprint(f\"{tada} All tests passed! {tada}\")"
        },
        {
            "cell_type": "markdown",
            "metadata": {},
            "source": "## Part 3.3:\n\nCreate a `df2_treatment` group that contains a random selection of 50% of the rows from `df2`."
        },
        {
            "cell_type": "code",
            "execution_count": null,
            "metadata": {
                "trusted": true
            },
            "outputs": [],
            "source": "### ASSIGNMENT CODE for Puzzle 3.2 ==\ndf2_treatment = df2.sample(frac=0.5)\ndf2_treatment"
        },
        {
            "cell_type": "markdown",
            "metadata": {},
            "source": "## Part 3.4:\n\nCreate a `df2_control` group that contains the other half of the rows from `df2`."
        },
        {
            "cell_type": "code",
            "execution_count": null,
            "metadata": {
                "trusted": true
            },
            "outputs": [],
            "source": "### ASSIGNMENT CODE for Puzzle 3.2 ==\ndf2_control = df2 [ ~df2.index.isin(df2_treatment.index) ]\ndf2_control"
        },
        {
            "cell_type": "markdown",
            "metadata": {},
            "source": "### \ud83d\udd2c Test Case Checkpoint \ud83d\udd2c"
        },
        {
            "cell_type": "code",
            "execution_count": null,
            "metadata": {
                "trusted": true
            },
            "outputs": [],
            "source": "### TEST CASE for Puzzle 3.2 ==\n## == CHECKPOINT TEST CASE ==\n# - This read-only cell contains test cases for your previous cell.\n# - If this cell runs without any error our output, you PASSED all test cases!\n# - If this cell results in any errors, check you previous cell, make changes, and RE-RUN your code and then this cell.\nassert( 'df2_treatment' in vars() ), \"You do not have a DataFrame called `df2_treatment`.\"\nassert( 'df2_control' in vars() ), \"You do not have a DataFrame called `df2_control`.\"\nassert( len(df[ df.index.isin(df2_treatment.index) & df.index.isin(df2_control.index) ]) == 0), \"The `df2_treatment` and `df2_control` groups have some overlap!  There must be no overlap.\"\nassert( len(df[ df.index.isin(df2_treatment.index) & df.index.isin(df1.index) ]) == 0), \"The `df2_treatment` and `df1` groups have some overlap!  There must be no overlap.\"\nassert( len(df[ df.index.isin(df2_control.index) & df.index.isin(df1.index) ]) == 0), \"The `df2_control` and `df1` groups have some overlap!  There must be no overlap.\"\n\n\n## == SUCCESS MESSAGE ==\n# You will only see this message (with the emoji showing) if you passed all test cases:\ntada = \"\\N{PARTY POPPER}\"\nprint(f\"{tada} All tests passed! {tada}\")"
        },
        {
            "cell_type": "markdown",
            "metadata": {},
            "source": "## Part 3.5:\n\nFinally, read the guide: **Combining DataFrames by Concatenation** (https://discovery.cs.illinois.edu/guides/Combining-DataFrames/Combining-DataFrames-by-Concatenation/) to learn how to combine `df1_treatment` and `df2_treatment` together into one group called `treatment`:"
        },
        {
            "cell_type": "code",
            "execution_count": null,
            "metadata": {
                "trusted": true
            },
            "outputs": [],
            "source": "### ASSIGNMENT CODE for Puzzle 3.3 ==\ntreatment = pd.concat([df1_treatment, df2_treatment])\ntreatment"
        },
        {
            "cell_type": "markdown",
            "metadata": {},
            "source": "## Part 3.6:\n\nUsing the same technique, combine `df1_control` and `df2_control` together into one group called `control`:"
        },
        {
            "cell_type": "code",
            "execution_count": null,
            "metadata": {
                "trusted": true
            },
            "outputs": [],
            "source": "### ASSIGNMENT CODE for Puzzle 3.3 ==\ncontrol = pd.concat([df1_control, df2_control])\ncontrol"
        },
        {
            "cell_type": "markdown",
            "metadata": {},
            "source": "### \ud83d\udd2c Test Case Checkpoint \ud83d\udd2c"
        },
        {
            "cell_type": "code",
            "execution_count": null,
            "metadata": {
                "trusted": true
            },
            "outputs": [],
            "source": "### TEST CASE for Puzzle 3.3 ==\n## == CHECKPOINT TEST CASE ==\n# - This read-only cell contains test cases for your previous cell.\n# - If this cell runs without any error our output, you PASSED all test cases!\n# - If this cell results in any errors, check you previous cell, make changes, and RE-RUN your code and then this cell.\nassert( len(df[ df.index.isin(treatment.index) & df.index.isin(control.index) ]) == 0), \"The `treatment` and `control` groups have some overlap!  There must be no overlap.\"\n\n## == SUCCESS MESSAGE ==\n# You will only see this message (with the emoji showing) if you passed all test cases:\ntada = \"\\N{PARTY POPPER}\"\nprint(f\"{tada} All tests passed! {tada}\")"
        },
        {
            "cell_type": "markdown",
            "metadata": {},
            "source": "## Analysis: Blocking"
        },
        {
            "cell_type": "markdown",
            "metadata": {},
            "source": "**Q: In your own words, explain what blocking is and why it is useful to someone who has never taken a statistics course before! You can use what you did above as an example in your explanation if you'd like. Make sure to include what blocking is and why it is useful. Write at least three complete sentences to answer this question.**"
        },
        {
            "cell_type": "markdown",
            "metadata": {},
            "source": "Blocking is useful because ..."
        },
        {
            "cell_type": "markdown",
            "metadata": {},
            "source": "<hr style=\"color: #DD3403;\">"
        },
        {
            "cell_type": "markdown",
            "metadata": {},
            "source": "# Submission\n\nYou're almost done!  All you need to do is to commit your lab to GitHub:\n\n1.  \u26a0\ufe0f **Make certain to save your work.** \u26a0\ufe0f To do this, go to **File => Save All**\n\n2.  After you have saved, exit this notebook and follow the Canvas instructions to commit this lab to your Git repository!\n\n3. Your TA will grade your submission and provide you feedback after the lab is due. :)"
        }
    ],
    "metadata": {
        "kernelspec": {
            "display_name": "Python 3 (ipykernel)",
            "language": "python",
            "name": "python3"
        },
        "language_info": {
            "codemirror_mode": {
                "name": "ipython",
                "version": 3
            },
            "file_extension": ".py",
            "mimetype": "text/x-python",
            "name": "python",
            "nbconvert_exporter": "python",
            "pygments_lexer": "ipython3",
            "version": "3.11.3"
        }
    },
    "nbformat": 4,
    "nbformat_minor": 5
}